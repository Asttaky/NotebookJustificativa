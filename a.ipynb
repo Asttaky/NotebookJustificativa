{
 "cells": [
  {
   "cell_type": "code",
   "execution_count": 1,
   "metadata": {},
   "outputs": [
    {
     "data": {
      "application/vnd.jupyter.widget-view+json": {
       "model_id": "e16548e1da0f49498781e8c1bea4e58b",
       "version_major": 2,
       "version_minor": 0
      },
      "text/plain": [
       "Dropdown(description='Ano:', options=(2023, 2024), value=2023)"
      ]
     },
     "metadata": {},
     "output_type": "display_data"
    },
    {
     "data": {
      "application/vnd.jupyter.widget-view+json": {
       "model_id": "7cfc50a2bdee4b67bdd4b67d1e18c1dd",
       "version_major": 2,
       "version_minor": 0
      },
      "text/plain": [
       "Dropdown(description='Mês:', options=(1, 2, 3, 4, 5, 6, 7, 8, 9, 10, 11, 12), value=1)"
      ]
     },
     "metadata": {},
     "output_type": "display_data"
    },
    {
     "data": {
      "application/vnd.jupyter.widget-view+json": {
       "model_id": "bcc9486d9a65488c9e65a04b103bee94",
       "version_major": 2,
       "version_minor": 0
      },
      "text/plain": [
       "Button(description='Gerar Visualizações', style=ButtonStyle())"
      ]
     },
     "metadata": {},
     "output_type": "display_data"
    },
    {
     "data": {
      "application/vnd.jupyter.widget-view+json": {
       "model_id": "55586265bc31439095ba4bfd6bbde0a1",
       "version_major": 2,
       "version_minor": 0
      },
      "text/plain": [
       "Output()"
      ]
     },
     "metadata": {},
     "output_type": "display_data"
    },
    {
     "data": {
      "text/plain": [
       "<Figure size 640x480 with 0 Axes>"
      ]
     },
     "metadata": {},
     "output_type": "display_data"
    }
   ],
   "source": [
    "import pandas as pd\n",
    "import matplotlib.pyplot as plt\n",
    "from wordcloud import WordCloud\n",
    "import json\n",
    "from sqlalchemy import create_engine\n",
    "import seaborn as sns\n",
    "import re\n",
    "import ipywidgets as widgets\n",
    "from IPython.display import display, clear_output\n",
    "\n",
    "# Função para carregar dados\n",
    "def load_data():\n",
    "    # String de conexão ao banco de dados com Trusted Connection\n",
    "    connection_string = 'mssql+pyodbc://@apml_tes/Sandbox?driver=ODBC+Driver+17+for+SQL+Server&trusted_connection=yes'\n",
    "\n",
    "    # Criar engine de conexão\n",
    "    engine = create_engine(connection_string)\n",
    "\n",
    "    # Consultar dados da tabela 'AnaliseJustificativaFalta'\n",
    "    # query = \"\"\"\n",
    "    # select * from AnaliseJustificativaFalta nolock\n",
    "    # union all\n",
    "    # select * from [AnaliseJustificativaFalta2024] nolock\"\"\"\n",
    "    # df = pd.read_sql(query, engine)\n",
    "    df = pd.read_csv('amostra_AnaliseJustificativaFalta.csv')\n",
    "    return df\n",
    "\n",
    "# Função para converter as listas de strings em listas reais e achatar\n",
    "def flatten_reason_lists(column_data):\n",
    "    reasons = []\n",
    "    for item in column_data.dropna():\n",
    "        try:\n",
    "            reason_list = re.findall(r\"'(.*?)'\", item)\n",
    "            reasons.extend(reason_list)\n",
    "        except (ValueError, SyntaxError):\n",
    "            continue\n",
    "    return reasons\n",
    "\n",
    "# Função para gerar nuvem de palavras com stopwords adicionais\n",
    "def generate_word_cloud_with_stopwords(data, title, stopwords):\n",
    "    if len(data) == 0:\n",
    "        print(f\"Sem dados suficientes para gerar a nuvem de palavras: {title}\")\n",
    "        return\n",
    "    text = ' '.join(data)\n",
    "    wordcloud = WordCloud(width=800, height=400, background_color='white', stopwords=stopwords).generate(text)\n",
    "    plt.figure(figsize=(10, 5))\n",
    "    plt.imshow(wordcloud, interpolation='bilinear')\n",
    "    plt.axis('off')\n",
    "    plt.title(title)\n",
    "    plt.show()\n",
    "    plt.clf()  # Limpar a figura após renderizar\n",
    "\n",
    "# Função para categorizar os níveis de subjetividade\n",
    "def categorizar_subjetividade(valor):\n",
    "    if valor < 0.3:\n",
    "        return 'Baixo'\n",
    "    elif valor < 0.6:\n",
    "        return 'Médio'\n",
    "    else:\n",
    "        return 'Alto'\n",
    "\n",
    "# Função para obter o nome do mês\n",
    "def get_month_name(month):\n",
    "    month_names = [\n",
    "        \"Janeiro\", \"Fevereiro\", \"Março\", \"Abril\", \"Maio\", \"Junho\", \n",
    "        \"Julho\", \"Agosto\", \"Setembro\", \"Outubro\", \"Novembro\", \"Dezembro\"\n",
    "    ]\n",
    "    return month_names[month - 1]\n",
    "\n",
    "# Função para gerar todas as visualizações para um mês especificado\n",
    "def generate_monthly_visualizations(df, year, month):\n",
    "    df_filtered = df[(df['AnoAtividade'] == year) & (df['MesAtividade'] == month)]\n",
    "    \n",
    "    if df_filtered.empty:\n",
    "        print(f\"Sem dados para {get_month_name(month)} {year}.\")\n",
    "        return\n",
    "\n",
    "    perfil_comportamental = df_filtered['Perfil_Comportamental'].dropna()\n",
    "    sentimentos = df_filtered['Sentimentos'].dropna()\n",
    "    contribuicoes = df_filtered['Contribuicoes'].dropna()\n",
    "    palavras_chave = df_filtered['Palavras_Chave'].dropna()\n",
    "    motivo_justificativa = df_filtered['Razoes_Possiveis']\n",
    "    flattened_reasons = flatten_reason_lists(motivo_justificativa)\n",
    "\n",
    "    def safe_extract_keys(val):\n",
    "        try:\n",
    "            return re.findall(r\"'(.*?)'\", val)\n",
    "        except Exception as e:\n",
    "            return []\n",
    "\n",
    "    contribuicoes_negativas = df_filtered['Contribuicoes'].apply(lambda x: safe_extract_keys(x) if isinstance(x, str) else {})\n",
    "    all_frases_contribuicoes_negativas_cleaned = ' '.join([k for contrib in contribuicoes_negativas for k in contrib if isinstance(k, str)])\n",
    "        \n",
    "    # Gerar nuvens de palavras\n",
    "    additional_stopwords = set(['não', 'a', 'o', 'e', 'de', 'para', 'com', 'do', 'da', 'em', 'um', 'uma', 'que', 'se', 'os', 'as'])\n",
    "    generate_word_cloud_with_stopwords(all_frases_contribuicoes_negativas_cleaned.split(), 'Frases Negativas - Contribuições', additional_stopwords)\n",
    "\n",
    "    generate_word_cloud_with_stopwords(flattened_reasons, f'Nuvem de Palavras dos Motivos das Justificativas - {get_month_name(month)} {year}', additional_stopwords)\n",
    "    generate_word_cloud_with_stopwords(perfil_comportamental, f'Nuvem de Palavras de Perfil Comportamental - {get_month_name(month)} {year}', additional_stopwords)\n",
    "    generate_word_cloud_with_stopwords(sentimentos, f'Nuvem de Palavras de Sentimentos - {get_month_name(month)} {year}', additional_stopwords)\n",
    "    generate_word_cloud_with_stopwords(palavras_chave, f'Nuvem de Palavras das Palavras-Chave - {get_month_name(month)} {year}', additional_stopwords)\n",
    "\n",
    "    # Gráfico de barras para NomeAtividade\n",
    "    nome_atividade_counts = df_filtered['NomeAtividade'].value_counts()\n",
    "    plt.figure(figsize=(12, 6))\n",
    "    nome_atividade_counts.plot(kind='bar')\n",
    "    plt.title(f'Contagem de NomeAtividade - {get_month_name(month)} {year}')\n",
    "    plt.xlabel('NomeAtividade')\n",
    "    plt.ylabel('Contagem')\n",
    "    plt.show()\n",
    "    plt.clf()  # Limpar a figura após renderizar\n",
    "\n",
    "    # Gráficos de pizza para falha_sistemica e falha_operacional\n",
    "    falha_sistemica_counts = df_filtered['falha_sistemica'].value_counts()\n",
    "    falha_operacional_counts = df_filtered['falha_operacional'].value_counts()\n",
    "\n",
    "    plt.figure(figsize=(14, 7))\n",
    "    plt.subplot(1, 2, 1)\n",
    "    falha_sistemica_counts.plot(kind='pie', autopct='%1.1f%%', startangle=140, colors=['#ff9999','#66b3ff'])\n",
    "    plt.title(f'Distribuição de Falhas Sistêmicas - {get_month_name(month)} {year}')\n",
    "    plt.subplot(1, 2, 2)\n",
    "    falha_operacional_counts.plot(kind='pie', autopct='%1.1f%%', startangle=140, colors=['#ff9999','#66b3ff'])\n",
    "    plt.title(f'Distribuição de Falhas Operacionais - {get_month_name(month)} {year}')\n",
    "    plt.tight_layout()\n",
    "    plt.show()\n",
    "    plt.clf()  # Limpar a figura após renderizar\n",
    "\n",
    "    # Analisar a distribuição do nível de subjetividade e sua relação com a aceitação das justificativas\n",
    "    df_filtered['Nivel_Subjetividade_Categoria'] = df_filtered['Nivel_Subjetividade'].apply(categorizar_subjetividade)\n",
    "    plt.figure(figsize=(12, 6))\n",
    "    sns.countplot(x='Nivel_Subjetividade_Categoria', data=df_filtered)\n",
    "    plt.title('Distribuição dos Níveis de Subjetividade')\n",
    "    plt.xlabel('Nível de Subjetividade')\n",
    "    plt.ylabel('Contagem')\n",
    "    plt.show()\n",
    "    plt.clf()  # Limpar a figura após renderizar\n",
    "\n",
    "    plt.figure(figsize=(12, 6))\n",
    "    sns.countplot(x='Nivel_Subjetividade_Categoria', hue='DescricaoSituacao', data=df_filtered)\n",
    "    plt.title('Relação entre Nível de Subjetividade e Aceitação das Justificativas')\n",
    "    plt.xlabel('Nível de Subjetividade')\n",
    "    plt.ylabel('Contagem')\n",
    "    plt.legend(title='Situação')\n",
    "    plt.show()\n",
    "    plt.clf()  # Limpar a figura após renderizar\n",
    "\n",
    "# Configuração dos widgets\n",
    "df = load_data()\n",
    "\n",
    "anos = df['AnoAtividade'].unique()\n",
    "meses = sorted(df['MesAtividade'].unique())\n",
    "\n",
    "ano_selecionado = widgets.Dropdown(\n",
    "    options=anos,\n",
    "    description='Ano:',\n",
    "    disabled=False,\n",
    ")\n",
    "\n",
    "mes_selecionado = widgets.Dropdown(\n",
    "    options=meses,\n",
    "    description='Mês:',\n",
    "    disabled=False,\n",
    ")\n",
    "\n",
    "button = widgets.Button(description=\"Gerar Visualizações\")\n",
    "\n",
    "def on_button_clicked(b):\n",
    "    with output:\n",
    "        clear_output(wait=True)\n",
    "        generate_monthly_visualizations(df, ano_selecionado.value, mes_selecionado.value)\n",
    "\n",
    "button.on_click(on_button_clicked)\n",
    "\n",
    "output = widgets.Output()\n",
    "\n",
    "display(ano_selecionado, mes_selecionado, button, output)\n"
   ]
  }
 ],
 "metadata": {
  "kernelspec": {
   "display_name": "Python 3",
   "language": "python",
   "name": "python3"
  },
  "language_info": {
   "codemirror_mode": {
    "name": "ipython",
    "version": 3
   },
   "file_extension": ".py",
   "mimetype": "text/x-python",
   "name": "python",
   "nbconvert_exporter": "python",
   "pygments_lexer": "ipython3",
   "version": "3.12.2"
  }
 },
 "nbformat": 4,
 "nbformat_minor": 2
}
